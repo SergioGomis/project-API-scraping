{
 "cells": [
  {
   "cell_type": "code",
   "execution_count": 25,
   "metadata": {},
   "outputs": [],
   "source": [
    "import pandas as pd\n",
    "import numpy as np"
   ]
  },
  {
   "cell_type": "code",
   "execution_count": 2,
   "metadata": {},
   "outputs": [],
   "source": [
    "ds = pd.read_csv(\"../input/starbucks_updt.csv\")"
   ]
  },
  {
   "cell_type": "code",
   "execution_count": 4,
   "metadata": {},
   "outputs": [
    {
     "data": {
      "text/html": [
       "<div>\n",
       "<style scoped>\n",
       "    .dataframe tbody tr th:only-of-type {\n",
       "        vertical-align: middle;\n",
       "    }\n",
       "\n",
       "    .dataframe tbody tr th {\n",
       "        vertical-align: top;\n",
       "    }\n",
       "\n",
       "    .dataframe thead th {\n",
       "        text-align: right;\n",
       "    }\n",
       "</style>\n",
       "<table border=\"1\" class=\"dataframe\">\n",
       "  <thead>\n",
       "    <tr style=\"text-align: right;\">\n",
       "      <th></th>\n",
       "      <th>Brand</th>\n",
       "      <th>Store Number</th>\n",
       "      <th>Store Name</th>\n",
       "      <th>Street Address</th>\n",
       "      <th>City</th>\n",
       "      <th>Longitude</th>\n",
       "      <th>Latitude</th>\n",
       "      <th>Pais</th>\n",
       "    </tr>\n",
       "  </thead>\n",
       "  <tbody>\n",
       "    <tr>\n",
       "      <th>5121</th>\n",
       "      <td>Starbucks</td>\n",
       "      <td>26658-244208</td>\n",
       "      <td>ECI Alicante</td>\n",
       "      <td>Avenida Federico Soto 1,3, Aeropuerto de Gran ...</td>\n",
       "      <td>Alicante</td>\n",
       "      <td>-0.49</td>\n",
       "      <td>38.34</td>\n",
       "      <td>Spain</td>\n",
       "    </tr>\n",
       "    <tr>\n",
       "      <th>5200</th>\n",
       "      <td>Starbucks</td>\n",
       "      <td>15213-156884</td>\n",
       "      <td>Alicante</td>\n",
       "      <td>AEROPUERTO DE ALICANTE - Planta 2., Salidas. Z...</td>\n",
       "      <td>Alicante</td>\n",
       "      <td>-0.56</td>\n",
       "      <td>38.29</td>\n",
       "      <td>Spain</td>\n",
       "    </tr>\n",
       "  </tbody>\n",
       "</table>\n",
       "</div>"
      ],
      "text/plain": [
       "          Brand  Store Number    Store Name  \\\n",
       "5121  Starbucks  26658-244208  ECI Alicante   \n",
       "5200  Starbucks  15213-156884      Alicante   \n",
       "\n",
       "                                         Street Address      City  Longitude  \\\n",
       "5121  Avenida Federico Soto 1,3, Aeropuerto de Gran ...  Alicante      -0.49   \n",
       "5200  AEROPUERTO DE ALICANTE - Planta 2., Salidas. Z...  Alicante      -0.56   \n",
       "\n",
       "      Latitude   Pais  \n",
       "5121     38.34  Spain  \n",
       "5200     38.29  Spain  "
      ]
     },
     "execution_count": 4,
     "metadata": {},
     "output_type": "execute_result"
    }
   ],
   "source": [
    "ds[ds['City'].str.lower()=='alicante']"
   ]
  },
  {
   "cell_type": "code",
   "execution_count": 42,
   "metadata": {},
   "outputs": [
    {
     "data": {
      "text/plain": [
       "2"
      ]
     },
     "execution_count": 42,
     "metadata": {},
     "output_type": "execute_result"
    }
   ],
   "source": [
    "#ds[ds['City'].str.lower()=='alicante']\n",
    "ds[ds['City'].str.lower()=='valencia'].groupby(['Pais'])['Pais'].unique().shape[0]#.size().reset_index().groupby('Pais')[[0]].count()"
   ]
  },
  {
   "cell_type": "code",
   "execution_count": 45,
   "metadata": {},
   "outputs": [
    {
     "data": {
      "text/plain": [
       "['Spain', 'United States']"
      ]
     },
     "execution_count": 45,
     "metadata": {},
     "output_type": "execute_result"
    }
   ],
   "source": [
    "[a for a in ds[ds['City'].str.lower()=='valencia'].groupby(['Pais'])['Pais'].unique().keys()]"
   ]
  },
  {
   "cell_type": "code",
   "execution_count": 6,
   "metadata": {},
   "outputs": [
    {
     "data": {
      "text/plain": [
       "25600"
      ]
     },
     "execution_count": 6,
     "metadata": {},
     "output_type": "execute_result"
    }
   ],
   "source": [
    "len(ds)"
   ]
  },
  {
   "cell_type": "code",
   "execution_count": 5,
   "metadata": {},
   "outputs": [
    {
     "data": {
      "text/plain": [
       "24898"
      ]
     },
     "execution_count": 5,
     "metadata": {},
     "output_type": "execute_result"
    }
   ],
   "source": [
    "len(ds[ds['Latitude']>0])"
   ]
  },
  {
   "cell_type": "code",
   "execution_count": 7,
   "metadata": {},
   "outputs": [
    {
     "data": {
      "text/plain": [
       "13608"
      ]
     },
     "execution_count": 7,
     "metadata": {},
     "output_type": "execute_result"
    }
   ],
   "source": [
    "len(ds[ds['Pais']=='United States'])"
   ]
  },
  {
   "cell_type": "code",
   "execution_count": 17,
   "metadata": {},
   "outputs": [],
   "source": [
    "sal = ds.groupby(['City'])['City'].count()"
   ]
  },
  {
   "cell_type": "code",
   "execution_count": 26,
   "metadata": {},
   "outputs": [
    {
     "data": {
      "text/plain": [
       "City\n",
       "'s-Hertogenbosch    5298\n",
       "1~2F                4176\n",
       "2-3-6 Kyonancho     5319\n",
       "330-9501            3219\n",
       "438-1 Fujisawa      2626\n",
       "                    ... \n",
       "부산                  2464\n",
       "서울                  2469\n",
       "울산                  2470\n",
       "인천                  2535\n",
       "충청남도                5468\n",
       "Name: City, Length: 5469, dtype: int64"
      ]
     },
     "execution_count": 26,
     "metadata": {},
     "output_type": "execute_result"
    }
   ],
   "source": [
    "np.argsort(-sal, axis=1)"
   ]
  }
 ],
 "metadata": {
  "kernelspec": {
   "display_name": "Python 3",
   "language": "python",
   "name": "python3"
  },
  "language_info": {
   "codemirror_mode": {
    "name": "ipython",
    "version": 3
   },
   "file_extension": ".py",
   "mimetype": "text/x-python",
   "name": "python",
   "nbconvert_exporter": "python",
   "pygments_lexer": "ipython3",
   "version": "3.7.5"
  }
 },
 "nbformat": 4,
 "nbformat_minor": 4
}
